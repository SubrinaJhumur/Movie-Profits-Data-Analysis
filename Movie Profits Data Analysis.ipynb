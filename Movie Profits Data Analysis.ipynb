{
 "cells": [
  {
   "cell_type": "code",
   "execution_count": 1,
   "id": "3871ec43-f653-4ce7-9936-fe6a83e4eb5c",
   "metadata": {},
   "outputs": [],
   "source": [
    "# Importing necessary libraries for the project\n",
    "import pandas as pd\n",
    "import numpy as np\n",
    "import matplotlib.pyplot as plt\n",
    "import seaborn as sns"
   ]
  },
  {
   "cell_type": "code",
   "execution_count": 9,
   "id": "23255f41-6978-4f91-9c79-73706e51286f",
   "metadata": {},
   "outputs": [],
   "source": [
    "# Dataset Loading\n",
    "data=pd.read_csv(r'C:\\Users\\User\\Desktop\\data_hub\\movie_profit.csv')"
   ]
  },
  {
   "cell_type": "code",
   "execution_count": 151,
   "id": "5f25b9c5-bb05-4620-8f78-a6bdeb8e5d88",
   "metadata": {},
   "outputs": [
    {
     "data": {
      "text/plain": [
       "(3230, 11)"
      ]
     },
     "execution_count": 151,
     "metadata": {},
     "output_type": "execute_result"
    }
   ],
   "source": [
    "#Total Number of rows and columns\n",
    "data.shape"
   ]
  },
  {
   "cell_type": "code",
   "execution_count": 12,
   "id": "7faf75bf-c5c4-4758-8416-7b190621bc80",
   "metadata": {},
   "outputs": [
    {
     "data": {
      "text/html": [
       "<div>\n",
       "<style scoped>\n",
       "    .dataframe tbody tr th:only-of-type {\n",
       "        vertical-align: middle;\n",
       "    }\n",
       "\n",
       "    .dataframe tbody tr th {\n",
       "        vertical-align: top;\n",
       "    }\n",
       "\n",
       "    .dataframe thead th {\n",
       "        text-align: right;\n",
       "    }\n",
       "</style>\n",
       "<table border=\"1\" class=\"dataframe\">\n",
       "  <thead>\n",
       "    <tr style=\"text-align: right;\">\n",
       "      <th></th>\n",
       "      <th>Unnamed: 0</th>\n",
       "      <th>release_date</th>\n",
       "      <th>movie</th>\n",
       "      <th>production_budget</th>\n",
       "      <th>domestic_gross</th>\n",
       "      <th>worldwide_gross</th>\n",
       "      <th>distributor</th>\n",
       "      <th>mpaa_rating</th>\n",
       "      <th>genre</th>\n",
       "    </tr>\n",
       "  </thead>\n",
       "  <tbody>\n",
       "    <tr>\n",
       "      <th>0</th>\n",
       "      <td>1</td>\n",
       "      <td>6/22/2007</td>\n",
       "      <td>Evan Almighty</td>\n",
       "      <td>175000000.0</td>\n",
       "      <td>100289690.0</td>\n",
       "      <td>1.741313e+08</td>\n",
       "      <td>Universal</td>\n",
       "      <td>PG</td>\n",
       "      <td>Comedy</td>\n",
       "    </tr>\n",
       "    <tr>\n",
       "      <th>1</th>\n",
       "      <td>2</td>\n",
       "      <td>7/28/1995</td>\n",
       "      <td>Waterworld</td>\n",
       "      <td>175000000.0</td>\n",
       "      <td>88246220.0</td>\n",
       "      <td>2.642462e+08</td>\n",
       "      <td>Universal</td>\n",
       "      <td>PG-13</td>\n",
       "      <td>Action</td>\n",
       "    </tr>\n",
       "    <tr>\n",
       "      <th>2</th>\n",
       "      <td>3</td>\n",
       "      <td>5/12/2017</td>\n",
       "      <td>King Arthur: Legend of the Sword</td>\n",
       "      <td>175000000.0</td>\n",
       "      <td>39175066.0</td>\n",
       "      <td>1.399507e+08</td>\n",
       "      <td>Warner Bros.</td>\n",
       "      <td>PG-13</td>\n",
       "      <td>Adventure</td>\n",
       "    </tr>\n",
       "    <tr>\n",
       "      <th>3</th>\n",
       "      <td>4</td>\n",
       "      <td>12/25/2013</td>\n",
       "      <td>47 Ronin</td>\n",
       "      <td>175000000.0</td>\n",
       "      <td>38362475.0</td>\n",
       "      <td>1.517168e+08</td>\n",
       "      <td>Universal</td>\n",
       "      <td>PG-13</td>\n",
       "      <td>Action</td>\n",
       "    </tr>\n",
       "    <tr>\n",
       "      <th>4</th>\n",
       "      <td>5</td>\n",
       "      <td>6/22/2018</td>\n",
       "      <td>Jurassic World: Fallen Kingdom</td>\n",
       "      <td>170000000.0</td>\n",
       "      <td>416769345.0</td>\n",
       "      <td>1.304866e+09</td>\n",
       "      <td>Universal</td>\n",
       "      <td>PG-13</td>\n",
       "      <td>Action</td>\n",
       "    </tr>\n",
       "  </tbody>\n",
       "</table>\n",
       "</div>"
      ],
      "text/plain": [
       "   Unnamed: 0 release_date                             movie  \\\n",
       "0           1    6/22/2007                     Evan Almighty   \n",
       "1           2    7/28/1995                        Waterworld   \n",
       "2           3    5/12/2017  King Arthur: Legend of the Sword   \n",
       "3           4   12/25/2013                          47 Ronin   \n",
       "4           5    6/22/2018    Jurassic World: Fallen Kingdom   \n",
       "\n",
       "   production_budget  domestic_gross  worldwide_gross   distributor  \\\n",
       "0        175000000.0     100289690.0     1.741313e+08     Universal   \n",
       "1        175000000.0      88246220.0     2.642462e+08     Universal   \n",
       "2        175000000.0      39175066.0     1.399507e+08  Warner Bros.   \n",
       "3        175000000.0      38362475.0     1.517168e+08     Universal   \n",
       "4        170000000.0     416769345.0     1.304866e+09     Universal   \n",
       "\n",
       "  mpaa_rating      genre  \n",
       "0          PG     Comedy  \n",
       "1       PG-13     Action  \n",
       "2       PG-13  Adventure  \n",
       "3       PG-13     Action  \n",
       "4       PG-13     Action  "
      ]
     },
     "execution_count": 12,
     "metadata": {},
     "output_type": "execute_result"
    }
   ],
   "source": [
    "# First 5 rows of the dataset\n",
    "data.head()"
   ]
  },
  {
   "cell_type": "code",
   "execution_count": 13,
   "id": "f5806b19-7949-4ea9-8343-216a46646d54",
   "metadata": {},
   "outputs": [
    {
     "name": "stdout",
     "output_type": "stream",
     "text": [
      "<class 'pandas.core.frame.DataFrame'>\n",
      "RangeIndex: 3401 entries, 0 to 3400\n",
      "Data columns (total 9 columns):\n",
      " #   Column             Non-Null Count  Dtype  \n",
      "---  ------             --------------  -----  \n",
      " 0   Unnamed: 0         3401 non-null   int64  \n",
      " 1   release_date       3401 non-null   object \n",
      " 2   movie              3401 non-null   object \n",
      " 3   production_budget  3401 non-null   float64\n",
      " 4   domestic_gross     3401 non-null   float64\n",
      " 5   worldwide_gross    3401 non-null   float64\n",
      " 6   distributor        3353 non-null   object \n",
      " 7   mpaa_rating        3264 non-null   object \n",
      " 8   genre              3401 non-null   object \n",
      "dtypes: float64(3), int64(1), object(5)\n",
      "memory usage: 239.3+ KB\n"
     ]
    }
   ],
   "source": [
    "# Getting information of the whole dataset\n",
    "data.info()"
   ]
  },
  {
   "cell_type": "code",
   "execution_count": 18,
   "id": "bf7fe782-7b53-4a5f-a82f-a89e73f0f70f",
   "metadata": {},
   "outputs": [
    {
     "data": {
      "text/plain": [
       "0"
      ]
     },
     "execution_count": 18,
     "metadata": {},
     "output_type": "execute_result"
    }
   ],
   "source": [
    "#checking the duplicate value of the dataset\n",
    "data.duplicated().sum()"
   ]
  },
  {
   "cell_type": "code",
   "execution_count": 19,
   "id": "34854627-1df9-43a5-ab3d-82364e3498cb",
   "metadata": {},
   "outputs": [
    {
     "data": {
      "text/plain": [
       "Unnamed: 0           0\n",
       "release_date         0\n",
       "movie                0\n",
       "production_budget    0\n",
       "domestic_gross       0\n",
       "worldwide_gross      0\n",
       "distributor          0\n",
       "mpaa_rating          0\n",
       "genre                0\n",
       "dtype: int64"
      ]
     },
     "execution_count": 19,
     "metadata": {},
     "output_type": "execute_result"
    }
   ],
   "source": [
    "#checking the null values of the dataset\n",
    "data.isnull().sum()"
   ]
  },
  {
   "cell_type": "code",
   "execution_count": 20,
   "id": "f7cdacdf-3e3f-426a-b590-4ca32179304d",
   "metadata": {},
   "outputs": [],
   "source": [
    "#dropping the null values of the dataset\n",
    "data.dropna(inplace=True)"
   ]
  },
  {
   "cell_type": "code",
   "execution_count": 21,
   "id": "a05a02b4-2907-4957-838f-f92857c6dac1",
   "metadata": {},
   "outputs": [
    {
     "data": {
      "text/plain": [
       "(3230, 9)"
      ]
     },
     "execution_count": 21,
     "metadata": {},
     "output_type": "execute_result"
    }
   ],
   "source": [
    "#new shape of the dataset\n",
    "data.shape"
   ]
  },
  {
   "cell_type": "code",
   "execution_count": 23,
   "id": "8d4c462f-c047-473c-b1f8-e498f00f4299",
   "metadata": {},
   "outputs": [
    {
     "data": {
      "text/html": [
       "<div>\n",
       "<style scoped>\n",
       "    .dataframe tbody tr th:only-of-type {\n",
       "        vertical-align: middle;\n",
       "    }\n",
       "\n",
       "    .dataframe tbody tr th {\n",
       "        vertical-align: top;\n",
       "    }\n",
       "\n",
       "    .dataframe thead th {\n",
       "        text-align: right;\n",
       "    }\n",
       "</style>\n",
       "<table border=\"1\" class=\"dataframe\">\n",
       "  <thead>\n",
       "    <tr style=\"text-align: right;\">\n",
       "      <th></th>\n",
       "      <th>Unnamed: 0</th>\n",
       "      <th>production_budget</th>\n",
       "      <th>domestic_gross</th>\n",
       "      <th>worldwide_gross</th>\n",
       "    </tr>\n",
       "  </thead>\n",
       "  <tbody>\n",
       "    <tr>\n",
       "      <th>count</th>\n",
       "      <td>3230.000000</td>\n",
       "      <td>3.230000e+03</td>\n",
       "      <td>3.230000e+03</td>\n",
       "      <td>3.230000e+03</td>\n",
       "    </tr>\n",
       "    <tr>\n",
       "      <th>mean</th>\n",
       "      <td>1650.202786</td>\n",
       "      <td>3.459218e+07</td>\n",
       "      <td>4.726805e+07</td>\n",
       "      <td>9.841706e+07</td>\n",
       "    </tr>\n",
       "    <tr>\n",
       "      <th>std</th>\n",
       "      <td>971.783644</td>\n",
       "      <td>3.526337e+07</td>\n",
       "      <td>5.973707e+07</td>\n",
       "      <td>1.432841e+08</td>\n",
       "    </tr>\n",
       "    <tr>\n",
       "      <th>min</th>\n",
       "      <td>1.000000</td>\n",
       "      <td>2.500000e+05</td>\n",
       "      <td>0.000000e+00</td>\n",
       "      <td>0.000000e+00</td>\n",
       "    </tr>\n",
       "    <tr>\n",
       "      <th>25%</th>\n",
       "      <td>808.250000</td>\n",
       "      <td>1.000000e+07</td>\n",
       "      <td>6.867944e+06</td>\n",
       "      <td>1.177994e+07</td>\n",
       "    </tr>\n",
       "    <tr>\n",
       "      <th>50%</th>\n",
       "      <td>1629.500000</td>\n",
       "      <td>2.200000e+07</td>\n",
       "      <td>2.733297e+07</td>\n",
       "      <td>4.404424e+07</td>\n",
       "    </tr>\n",
       "    <tr>\n",
       "      <th>75%</th>\n",
       "      <td>2475.750000</td>\n",
       "      <td>4.900000e+07</td>\n",
       "      <td>6.341329e+07</td>\n",
       "      <td>1.252019e+08</td>\n",
       "    </tr>\n",
       "    <tr>\n",
       "      <th>max</th>\n",
       "      <td>3401.000000</td>\n",
       "      <td>1.750000e+08</td>\n",
       "      <td>4.745447e+08</td>\n",
       "      <td>1.304866e+09</td>\n",
       "    </tr>\n",
       "  </tbody>\n",
       "</table>\n",
       "</div>"
      ],
      "text/plain": [
       "        Unnamed: 0  production_budget  domestic_gross  worldwide_gross\n",
       "count  3230.000000       3.230000e+03    3.230000e+03     3.230000e+03\n",
       "mean   1650.202786       3.459218e+07    4.726805e+07     9.841706e+07\n",
       "std     971.783644       3.526337e+07    5.973707e+07     1.432841e+08\n",
       "min       1.000000       2.500000e+05    0.000000e+00     0.000000e+00\n",
       "25%     808.250000       1.000000e+07    6.867944e+06     1.177994e+07\n",
       "50%    1629.500000       2.200000e+07    2.733297e+07     4.404424e+07\n",
       "75%    2475.750000       4.900000e+07    6.341329e+07     1.252019e+08\n",
       "max    3401.000000       1.750000e+08    4.745447e+08     1.304866e+09"
      ]
     },
     "execution_count": 23,
     "metadata": {},
     "output_type": "execute_result"
    }
   ],
   "source": [
    "# check the statistical information of the whole dataset\n",
    "data.describe()"
   ]
  },
  {
   "cell_type": "code",
   "execution_count": 24,
   "id": "444f760e-7485-49de-8f05-ce0e90f0106b",
   "metadata": {},
   "outputs": [
    {
     "data": {
      "text/html": [
       "<div>\n",
       "<style scoped>\n",
       "    .dataframe tbody tr th:only-of-type {\n",
       "        vertical-align: middle;\n",
       "    }\n",
       "\n",
       "    .dataframe tbody tr th {\n",
       "        vertical-align: top;\n",
       "    }\n",
       "\n",
       "    .dataframe thead th {\n",
       "        text-align: right;\n",
       "    }\n",
       "</style>\n",
       "<table border=\"1\" class=\"dataframe\">\n",
       "  <thead>\n",
       "    <tr style=\"text-align: right;\">\n",
       "      <th></th>\n",
       "      <th>release_date</th>\n",
       "      <th>movie</th>\n",
       "      <th>distributor</th>\n",
       "      <th>mpaa_rating</th>\n",
       "      <th>genre</th>\n",
       "    </tr>\n",
       "  </thead>\n",
       "  <tbody>\n",
       "    <tr>\n",
       "      <th>count</th>\n",
       "      <td>3230</td>\n",
       "      <td>3230</td>\n",
       "      <td>3230</td>\n",
       "      <td>3230</td>\n",
       "      <td>3230</td>\n",
       "    </tr>\n",
       "    <tr>\n",
       "      <th>unique</th>\n",
       "      <td>1656</td>\n",
       "      <td>3230</td>\n",
       "      <td>186</td>\n",
       "      <td>4</td>\n",
       "      <td>5</td>\n",
       "    </tr>\n",
       "    <tr>\n",
       "      <th>top</th>\n",
       "      <td>12/22/2000</td>\n",
       "      <td>Evan Almighty</td>\n",
       "      <td>Warner Bros.</td>\n",
       "      <td>R</td>\n",
       "      <td>Drama</td>\n",
       "    </tr>\n",
       "    <tr>\n",
       "      <th>freq</th>\n",
       "      <td>8</td>\n",
       "      <td>1</td>\n",
       "      <td>363</td>\n",
       "      <td>1492</td>\n",
       "      <td>1180</td>\n",
       "    </tr>\n",
       "  </tbody>\n",
       "</table>\n",
       "</div>"
      ],
      "text/plain": [
       "       release_date          movie   distributor mpaa_rating  genre\n",
       "count          3230           3230          3230        3230   3230\n",
       "unique         1656           3230           186           4      5\n",
       "top      12/22/2000  Evan Almighty  Warner Bros.           R  Drama\n",
       "freq              8              1           363        1492   1180"
      ]
     },
     "execution_count": 24,
     "metadata": {},
     "output_type": "execute_result"
    }
   ],
   "source": [
    "# check the object dataset statistical information\n",
    "data.describe(include='object')"
   ]
  },
  {
   "cell_type": "code",
   "execution_count": 153,
   "id": "6970cccd-3201-4b6e-a90a-cbd3d77c7ecc",
   "metadata": {},
   "outputs": [
    {
     "data": {
      "text/plain": [
       "release_date         1656\n",
       "movie                3230\n",
       "production_budget     299\n",
       "domestic_gross       3179\n",
       "worldwide_gross      3200\n",
       "distributor           186\n",
       "mpaa_rating             4\n",
       "genre                   5\n",
       "year                   67\n",
       "month                  12\n",
       "day                    31\n",
       "dtype: int64"
      ]
     },
     "execution_count": 153,
     "metadata": {},
     "output_type": "execute_result"
    }
   ],
   "source": [
    "#findout the number of the unique values of the dataset\n",
    "data.nunique()"
   ]
  },
  {
   "cell_type": "code",
   "execution_count": 154,
   "id": "ef8dd895-0f45-4b25-bedd-f7d4a0ac0c72",
   "metadata": {},
   "outputs": [],
   "source": [
    "#Coverting the release_date object column into datetime column\n",
    "data['release_date']=pd.to_datetime(data['release_date'])"
   ]
  },
  {
   "cell_type": "code",
   "execution_count": 155,
   "id": "9a6bff96-f6e7-42e9-92e1-cdb91d929c4f",
   "metadata": {},
   "outputs": [],
   "source": [
    "#Separate the year from the release_date column\n",
    "data['year']=data['release_date'].dt.year"
   ]
  },
  {
   "cell_type": "code",
   "execution_count": 156,
   "id": "a7842e4d-9609-4439-8c54-dcbc293603b4",
   "metadata": {},
   "outputs": [],
   "source": [
    "#Separate the month from the release_date column\n",
    "data['month']=data['release_date'].dt.month"
   ]
  },
  {
   "cell_type": "code",
   "execution_count": 157,
   "id": "e5c3aa96-e0d4-44fd-ac65-fe38fc19f208",
   "metadata": {},
   "outputs": [],
   "source": [
    "#Separate the day from the release_date column\n",
    "data['day']=data['release_date'].dt.day"
   ]
  },
  {
   "cell_type": "code",
   "execution_count": 158,
   "id": "04058ef2-7579-4a8d-a922-41aa0c1018f9",
   "metadata": {},
   "outputs": [
    {
     "data": {
      "text/plain": [
       "count    3230.000000\n",
       "mean     2004.455418\n",
       "std         9.417522\n",
       "min      1936.000000\n",
       "25%      2000.000000\n",
       "50%      2006.000000\n",
       "75%      2011.000000\n",
       "max      2019.000000\n",
       "Name: year, dtype: float64"
      ]
     },
     "execution_count": 158,
     "metadata": {},
     "output_type": "execute_result"
    }
   ],
   "source": [
    "#Show the statistical information of the year column\n",
    "data['year'].describe()"
   ]
  },
  {
   "cell_type": "code",
   "execution_count": 159,
   "id": "598d5cc5-3f2c-4829-837a-619e734f5efe",
   "metadata": {},
   "outputs": [
    {
     "data": {
      "text/plain": [
       "67"
      ]
     },
     "execution_count": 159,
     "metadata": {},
     "output_type": "execute_result"
    }
   ],
   "source": [
    "#Findout how many unique years in the dataset\n",
    "data['year'].nunique()"
   ]
  },
  {
   "cell_type": "code",
   "execution_count": 160,
   "id": "36ab2473-d6f4-4029-896f-faa764ea528a",
   "metadata": {},
   "outputs": [
    {
     "name": "stderr",
     "output_type": "stream",
     "text": [
      "C:\\Users\\User\\AppData\\Local\\Temp\\ipykernel_7376\\3396267905.py:3: FutureWarning: \n",
      "\n",
      "Passing `palette` without assigning `hue` is deprecated and will be removed in v0.14.0. Assign the `x` variable to `hue` and set `legend=False` for the same effect.\n",
      "\n",
      "  ax=sns.countplot(x='year',data=data,palette='hsv')\n"
     ]
    },
    {
     "data": {
      "image/png": "[encoded data removed]",
      "text/plain": [
       "<Figure size 1800x400 with 1 Axes>"
      ]
     },
     "metadata": {},
     "output_type": "display_data"
    }
   ],
   "source": [
    "#Data visualization of the releasing year in which total number of movies\n",
    "plt.figure(figsize=(18,4))\n",
    "ax=sns.countplot(x='year',data=data,palette='hsv')\n",
    "for bars in ax.containers:\n",
    "    ax.bar_label(bars)\n",
    "plt.xticks(rotation=90)\n",
    "plt.show()"
   ]
  },
  {
   "cell_type": "code",
   "execution_count": 161,
   "id": "5493ee08-a395-4433-aced-fb2998a6f598",
   "metadata": {},
   "outputs": [
    {
     "data": {
      "text/html": [
       "<div>\n",
       "<style scoped>\n",
       "    .dataframe tbody tr th:only-of-type {\n",
       "        vertical-align: middle;\n",
       "    }\n",
       "\n",
       "    .dataframe tbody tr th {\n",
       "        vertical-align: top;\n",
       "    }\n",
       "\n",
       "    .dataframe thead th {\n",
       "        text-align: right;\n",
       "    }\n",
       "</style>\n",
       "<table border=\"1\" class=\"dataframe\">\n",
       "  <thead>\n",
       "    <tr style=\"text-align: right;\">\n",
       "      <th></th>\n",
       "      <th>production_budget</th>\n",
       "    </tr>\n",
       "  </thead>\n",
       "  <tbody>\n",
       "    <tr>\n",
       "      <th>count</th>\n",
       "      <td>3.230000e+03</td>\n",
       "    </tr>\n",
       "    <tr>\n",
       "      <th>mean</th>\n",
       "      <td>3.459218e+07</td>\n",
       "    </tr>\n",
       "    <tr>\n",
       "      <th>std</th>\n",
       "      <td>3.526337e+07</td>\n",
       "    </tr>\n",
       "    <tr>\n",
       "      <th>min</th>\n",
       "      <td>2.500000e+05</td>\n",
       "    </tr>\n",
       "    <tr>\n",
       "      <th>25%</th>\n",
       "      <td>1.000000e+07</td>\n",
       "    </tr>\n",
       "    <tr>\n",
       "      <th>50%</th>\n",
       "      <td>2.200000e+07</td>\n",
       "    </tr>\n",
       "    <tr>\n",
       "      <th>75%</th>\n",
       "      <td>4.900000e+07</td>\n",
       "    </tr>\n",
       "    <tr>\n",
       "      <th>max</th>\n",
       "      <td>1.750000e+08</td>\n",
       "    </tr>\n",
       "  </tbody>\n",
       "</table>\n",
       "</div>"
      ],
      "text/plain": [
       "       production_budget\n",
       "count       3.230000e+03\n",
       "mean        3.459218e+07\n",
       "std         3.526337e+07\n",
       "min         2.500000e+05\n",
       "25%         1.000000e+07\n",
       "50%         2.200000e+07\n",
       "75%         4.900000e+07\n",
       "max         1.750000e+08"
      ]
     },
     "execution_count": 161,
     "metadata": {},
     "output_type": "execute_result"
    }
   ],
   "source": [
    "#Get the statistical information of the production budget of movies\n",
    "data[['movie', 'production_budget']].describe()"
   ]
  },
  {
   "cell_type": "code",
   "execution_count": 162,
   "id": "261fc4b0-7795-4aba-b63b-efdceb25769b",
   "metadata": {},
   "outputs": [
    {
     "data": {
      "text/html": [
       "<div>\n",
       "<style scoped>\n",
       "    .dataframe tbody tr th:only-of-type {\n",
       "        vertical-align: middle;\n",
       "    }\n",
       "\n",
       "    .dataframe tbody tr th {\n",
       "        vertical-align: top;\n",
       "    }\n",
       "\n",
       "    .dataframe thead th {\n",
       "        text-align: right;\n",
       "    }\n",
       "</style>\n",
       "<table border=\"1\" class=\"dataframe\">\n",
       "  <thead>\n",
       "    <tr style=\"text-align: right;\">\n",
       "      <th></th>\n",
       "      <th>release_date</th>\n",
       "      <th>movie</th>\n",
       "      <th>production_budget</th>\n",
       "      <th>domestic_gross</th>\n",
       "      <th>worldwide_gross</th>\n",
       "      <th>distributor</th>\n",
       "      <th>mpaa_rating</th>\n",
       "      <th>genre</th>\n",
       "      <th>year</th>\n",
       "      <th>month</th>\n",
       "      <th>day</th>\n",
       "    </tr>\n",
       "  </thead>\n",
       "  <tbody>\n",
       "    <tr>\n",
       "      <th>0</th>\n",
       "      <td>2007-06-22</td>\n",
       "      <td>Evan Almighty</td>\n",
       "      <td>175000000.0</td>\n",
       "      <td>100289690.0</td>\n",
       "      <td>1.741313e+08</td>\n",
       "      <td>Universal</td>\n",
       "      <td>PG</td>\n",
       "      <td>Comedy</td>\n",
       "      <td>2007</td>\n",
       "      <td>6</td>\n",
       "      <td>22</td>\n",
       "    </tr>\n",
       "    <tr>\n",
       "      <th>3</th>\n",
       "      <td>2013-12-25</td>\n",
       "      <td>47 Ronin</td>\n",
       "      <td>175000000.0</td>\n",
       "      <td>38362475.0</td>\n",
       "      <td>1.517168e+08</td>\n",
       "      <td>Universal</td>\n",
       "      <td>PG-13</td>\n",
       "      <td>Action</td>\n",
       "      <td>2013</td>\n",
       "      <td>12</td>\n",
       "      <td>25</td>\n",
       "    </tr>\n",
       "    <tr>\n",
       "      <th>1</th>\n",
       "      <td>1995-07-28</td>\n",
       "      <td>Waterworld</td>\n",
       "      <td>175000000.0</td>\n",
       "      <td>88246220.0</td>\n",
       "      <td>2.642462e+08</td>\n",
       "      <td>Universal</td>\n",
       "      <td>PG-13</td>\n",
       "      <td>Action</td>\n",
       "      <td>1995</td>\n",
       "      <td>7</td>\n",
       "      <td>28</td>\n",
       "    </tr>\n",
       "    <tr>\n",
       "      <th>2</th>\n",
       "      <td>2017-05-12</td>\n",
       "      <td>King Arthur: Legend of the Sword</td>\n",
       "      <td>175000000.0</td>\n",
       "      <td>39175066.0</td>\n",
       "      <td>1.399507e+08</td>\n",
       "      <td>Warner Bros.</td>\n",
       "      <td>PG-13</td>\n",
       "      <td>Adventure</td>\n",
       "      <td>2017</td>\n",
       "      <td>5</td>\n",
       "      <td>12</td>\n",
       "    </tr>\n",
       "    <tr>\n",
       "      <th>13</th>\n",
       "      <td>2015-05-22</td>\n",
       "      <td>Tomorrowland</td>\n",
       "      <td>170000000.0</td>\n",
       "      <td>93436322.0</td>\n",
       "      <td>2.072835e+08</td>\n",
       "      <td>Walt Disney</td>\n",
       "      <td>PG</td>\n",
       "      <td>Adventure</td>\n",
       "      <td>2015</td>\n",
       "      <td>5</td>\n",
       "      <td>22</td>\n",
       "    </tr>\n",
       "    <tr>\n",
       "      <th>5</th>\n",
       "      <td>2014-08-01</td>\n",
       "      <td>Guardians of the Galaxy</td>\n",
       "      <td>170000000.0</td>\n",
       "      <td>333172112.0</td>\n",
       "      <td>7.710513e+08</td>\n",
       "      <td>Walt Disney</td>\n",
       "      <td>PG-13</td>\n",
       "      <td>Action</td>\n",
       "      <td>2014</td>\n",
       "      <td>8</td>\n",
       "      <td>1</td>\n",
       "    </tr>\n",
       "    <tr>\n",
       "      <th>6</th>\n",
       "      <td>2010-05-07</td>\n",
       "      <td>Iron Man 2</td>\n",
       "      <td>170000000.0</td>\n",
       "      <td>312433331.0</td>\n",
       "      <td>6.211564e+08</td>\n",
       "      <td>Paramount Pictures</td>\n",
       "      <td>PG-13</td>\n",
       "      <td>Action</td>\n",
       "      <td>2010</td>\n",
       "      <td>5</td>\n",
       "      <td>7</td>\n",
       "    </tr>\n",
       "    <tr>\n",
       "      <th>7</th>\n",
       "      <td>2014-04-04</td>\n",
       "      <td>Captain America: The Winter Soldier</td>\n",
       "      <td>170000000.0</td>\n",
       "      <td>259746958.0</td>\n",
       "      <td>7.144019e+08</td>\n",
       "      <td>Walt Disney</td>\n",
       "      <td>PG-13</td>\n",
       "      <td>Action</td>\n",
       "      <td>2014</td>\n",
       "      <td>4</td>\n",
       "      <td>4</td>\n",
       "    </tr>\n",
       "    <tr>\n",
       "      <th>8</th>\n",
       "      <td>2014-07-11</td>\n",
       "      <td>Dawn of the Planet of the Apes</td>\n",
       "      <td>170000000.0</td>\n",
       "      <td>208545589.0</td>\n",
       "      <td>7.106446e+08</td>\n",
       "      <td>20th Century Fox</td>\n",
       "      <td>PG-13</td>\n",
       "      <td>Adventure</td>\n",
       "      <td>2014</td>\n",
       "      <td>7</td>\n",
       "      <td>11</td>\n",
       "    </tr>\n",
       "    <tr>\n",
       "      <th>4</th>\n",
       "      <td>2018-06-22</td>\n",
       "      <td>Jurassic World: Fallen Kingdom</td>\n",
       "      <td>170000000.0</td>\n",
       "      <td>416769345.0</td>\n",
       "      <td>1.304866e+09</td>\n",
       "      <td>Universal</td>\n",
       "      <td>PG-13</td>\n",
       "      <td>Action</td>\n",
       "      <td>2018</td>\n",
       "      <td>6</td>\n",
       "      <td>22</td>\n",
       "    </tr>\n",
       "  </tbody>\n",
       "</table>\n",
       "</div>"
      ],
      "text/plain": [
       "   release_date                                movie  production_budget  \\\n",
       "0    2007-06-22                        Evan Almighty        175000000.0   \n",
       "3    2013-12-25                             47 Ronin        175000000.0   \n",
       "1    1995-07-28                           Waterworld        175000000.0   \n",
       "2    2017-05-12     King Arthur: Legend of the Sword        175000000.0   \n",
       "13   2015-05-22                         Tomorrowland        170000000.0   \n",
       "5    2014-08-01              Guardians of the Galaxy        170000000.0   \n",
       "6    2010-05-07                           Iron Man 2        170000000.0   \n",
       "7    2014-04-04  Captain America: The Winter Soldier        170000000.0   \n",
       "8    2014-07-11       Dawn of the Planet of the Apes        170000000.0   \n",
       "4    2018-06-22       Jurassic World: Fallen Kingdom        170000000.0   \n",
       "\n",
       "    domestic_gross  worldwide_gross         distributor mpaa_rating  \\\n",
       "0      100289690.0     1.741313e+08           Universal          PG   \n",
       "3       38362475.0     1.517168e+08           Universal       PG-13   \n",
       "1       88246220.0     2.642462e+08           Universal       PG-13   \n",
       "2       39175066.0     1.399507e+08        Warner Bros.       PG-13   \n",
       "13      93436322.0     2.072835e+08         Walt Disney          PG   \n",
       "5      333172112.0     7.710513e+08         Walt Disney       PG-13   \n",
       "6      312433331.0     6.211564e+08  Paramount Pictures       PG-13   \n",
       "7      259746958.0     7.144019e+08         Walt Disney       PG-13   \n",
       "8      208545589.0     7.106446e+08    20th Century Fox       PG-13   \n",
       "4      416769345.0     1.304866e+09           Universal       PG-13   \n",
       "\n",
       "        genre  year  month  day  \n",
       "0      Comedy  2007      6   22  \n",
       "3      Action  2013     12   25  \n",
       "1      Action  1995      7   28  \n",
       "2   Adventure  2017      5   12  \n",
       "13  Adventure  2015      5   22  \n",
       "5      Action  2014      8    1  \n",
       "6      Action  2010      5    7  \n",
       "7      Action  2014      4    4  \n",
       "8   Adventure  2014      7   11  \n",
       "4      Action  2018      6   22  "
      ]
     },
     "execution_count": 162,
     "metadata": {},
     "output_type": "execute_result"
    }
   ],
   "source": [
    "#Sorting the dataset according to the production budget ascending criteria\n",
    "data.sort_values('production_budget',ascending=False).head(10)"
   ]
  },
  {
   "cell_type": "code",
   "execution_count": 66,
   "id": "096306a1-67cd-4101-9003-1faf18df99bd",
   "metadata": {},
   "outputs": [
    {
     "data": {
      "text/html": [
       "<div>\n",
       "<style scoped>\n",
       "    .dataframe tbody tr th:only-of-type {\n",
       "        vertical-align: middle;\n",
       "    }\n",
       "\n",
       "    .dataframe tbody tr th {\n",
       "        vertical-align: top;\n",
       "    }\n",
       "\n",
       "    .dataframe thead th {\n",
       "        text-align: right;\n",
       "    }\n",
       "</style>\n",
       "<table border=\"1\" class=\"dataframe\">\n",
       "  <thead>\n",
       "    <tr style=\"text-align: right;\">\n",
       "      <th></th>\n",
       "      <th>release_date</th>\n",
       "      <th>movie</th>\n",
       "      <th>production_budget</th>\n",
       "      <th>domestic_gross</th>\n",
       "      <th>worldwide_gross</th>\n",
       "      <th>distributor</th>\n",
       "      <th>mpaa_rating</th>\n",
       "      <th>genre</th>\n",
       "      <th>year</th>\n",
       "      <th>month</th>\n",
       "      <th>day</th>\n",
       "    </tr>\n",
       "  </thead>\n",
       "  <tbody>\n",
       "    <tr>\n",
       "      <th>3384</th>\n",
       "      <td>2003-10-17</td>\n",
       "      <td>Pieces of April</td>\n",
       "      <td>300000.0</td>\n",
       "      <td>2528664.0</td>\n",
       "      <td>3571253.0</td>\n",
       "      <td>MGM</td>\n",
       "      <td>PG-13</td>\n",
       "      <td>Comedy</td>\n",
       "      <td>2003</td>\n",
       "      <td>10</td>\n",
       "      <td>17</td>\n",
       "    </tr>\n",
       "    <tr>\n",
       "      <th>3383</th>\n",
       "      <td>2000-03-10</td>\n",
       "      <td>God's Army</td>\n",
       "      <td>300000.0</td>\n",
       "      <td>2637726.0</td>\n",
       "      <td>2652515.0</td>\n",
       "      <td>Excel Entertainment</td>\n",
       "      <td>PG</td>\n",
       "      <td>Drama</td>\n",
       "      <td>2000</td>\n",
       "      <td>3</td>\n",
       "      <td>10</td>\n",
       "    </tr>\n",
       "    <tr>\n",
       "      <th>3392</th>\n",
       "      <td>2012-08-17</td>\n",
       "      <td>Compliance</td>\n",
       "      <td>270000.0</td>\n",
       "      <td>319285.0</td>\n",
       "      <td>830700.0</td>\n",
       "      <td>Magnolia Pictures</td>\n",
       "      <td>R</td>\n",
       "      <td>Drama</td>\n",
       "      <td>2012</td>\n",
       "      <td>8</td>\n",
       "      <td>17</td>\n",
       "    </tr>\n",
       "    <tr>\n",
       "      <th>3393</th>\n",
       "      <td>2002-06-28</td>\n",
       "      <td>Lovely and Amazing</td>\n",
       "      <td>250000.0</td>\n",
       "      <td>4210379.0</td>\n",
       "      <td>4613482.0</td>\n",
       "      <td>Lionsgate</td>\n",
       "      <td>R</td>\n",
       "      <td>Drama</td>\n",
       "      <td>2002</td>\n",
       "      <td>6</td>\n",
       "      <td>28</td>\n",
       "    </tr>\n",
       "    <tr>\n",
       "      <th>3394</th>\n",
       "      <td>2017-04-28</td>\n",
       "      <td>Sleight</td>\n",
       "      <td>250000.0</td>\n",
       "      <td>3930990.0</td>\n",
       "      <td>3934450.0</td>\n",
       "      <td>High Top Releasing</td>\n",
       "      <td>R</td>\n",
       "      <td>Action</td>\n",
       "      <td>2017</td>\n",
       "      <td>4</td>\n",
       "      <td>28</td>\n",
       "    </tr>\n",
       "    <tr>\n",
       "      <th>3395</th>\n",
       "      <td>2003-04-11</td>\n",
       "      <td>Better Luck Tomorrow</td>\n",
       "      <td>250000.0</td>\n",
       "      <td>3802390.0</td>\n",
       "      <td>3809226.0</td>\n",
       "      <td>Paramount Pictures</td>\n",
       "      <td>R</td>\n",
       "      <td>Drama</td>\n",
       "      <td>2003</td>\n",
       "      <td>4</td>\n",
       "      <td>11</td>\n",
       "    </tr>\n",
       "    <tr>\n",
       "      <th>3396</th>\n",
       "      <td>2011-10-28</td>\n",
       "      <td>Like Crazy</td>\n",
       "      <td>250000.0</td>\n",
       "      <td>3395391.0</td>\n",
       "      <td>3728400.0</td>\n",
       "      <td>Paramount Pictures</td>\n",
       "      <td>PG-13</td>\n",
       "      <td>Drama</td>\n",
       "      <td>2011</td>\n",
       "      <td>10</td>\n",
       "      <td>28</td>\n",
       "    </tr>\n",
       "    <tr>\n",
       "      <th>3397</th>\n",
       "      <td>2000-07-14</td>\n",
       "      <td>Chuck&amp;Buck</td>\n",
       "      <td>250000.0</td>\n",
       "      <td>1055671.0</td>\n",
       "      <td>1157672.0</td>\n",
       "      <td>Artisan</td>\n",
       "      <td>R</td>\n",
       "      <td>Drama</td>\n",
       "      <td>2000</td>\n",
       "      <td>7</td>\n",
       "      <td>14</td>\n",
       "    </tr>\n",
       "    <tr>\n",
       "      <th>3398</th>\n",
       "      <td>1997-03-28</td>\n",
       "      <td>Love and Other Catastrophes</td>\n",
       "      <td>250000.0</td>\n",
       "      <td>212285.0</td>\n",
       "      <td>743216.0</td>\n",
       "      <td>Fox Searchlight</td>\n",
       "      <td>R</td>\n",
       "      <td>Comedy</td>\n",
       "      <td>1997</td>\n",
       "      <td>3</td>\n",
       "      <td>28</td>\n",
       "    </tr>\n",
       "    <tr>\n",
       "      <th>3400</th>\n",
       "      <td>2005-07-22</td>\n",
       "      <td>November</td>\n",
       "      <td>250000.0</td>\n",
       "      <td>191862.0</td>\n",
       "      <td>191862.0</td>\n",
       "      <td>Sony Pictures Classics</td>\n",
       "      <td>R</td>\n",
       "      <td>Drama</td>\n",
       "      <td>2005</td>\n",
       "      <td>7</td>\n",
       "      <td>22</td>\n",
       "    </tr>\n",
       "  </tbody>\n",
       "</table>\n",
       "</div>"
      ],
      "text/plain": [
       "     release_date                        movie  production_budget  \\\n",
       "3384   2003-10-17              Pieces of April           300000.0   \n",
       "3383   2000-03-10                   God's Army           300000.0   \n",
       "3392   2012-08-17                   Compliance           270000.0   \n",
       "3393   2002-06-28           Lovely and Amazing           250000.0   \n",
       "3394   2017-04-28                      Sleight           250000.0   \n",
       "3395   2003-04-11         Better Luck Tomorrow           250000.0   \n",
       "3396   2011-10-28                   Like Crazy           250000.0   \n",
       "3397   2000-07-14                   Chuck&Buck           250000.0   \n",
       "3398   1997-03-28  Love and Other Catastrophes           250000.0   \n",
       "3400   2005-07-22                     November           250000.0   \n",
       "\n",
       "      domestic_gross  worldwide_gross             distributor mpaa_rating  \\\n",
       "3384       2528664.0        3571253.0                     MGM       PG-13   \n",
       "3383       2637726.0        2652515.0     Excel Entertainment          PG   \n",
       "3392        319285.0         830700.0       Magnolia Pictures           R   \n",
       "3393       4210379.0        4613482.0               Lionsgate           R   \n",
       "3394       3930990.0        3934450.0      High Top Releasing           R   \n",
       "3395       3802390.0        3809226.0      Paramount Pictures           R   \n",
       "3396       3395391.0        3728400.0      Paramount Pictures       PG-13   \n",
       "3397       1055671.0        1157672.0                 Artisan           R   \n",
       "3398        212285.0         743216.0         Fox Searchlight           R   \n",
       "3400        191862.0         191862.0  Sony Pictures Classics           R   \n",
       "\n",
       "       genre  year  month  day  \n",
       "3384  Comedy  2003     10   17  \n",
       "3383   Drama  2000      3   10  \n",
       "3392   Drama  2012      8   17  \n",
       "3393   Drama  2002      6   28  \n",
       "3394  Action  2017      4   28  \n",
       "3395   Drama  2003      4   11  \n",
       "3396   Drama  2011     10   28  \n",
       "3397   Drama  2000      7   14  \n",
       "3398  Comedy  1997      3   28  \n",
       "3400   Drama  2005      7   22  "
      ]
     },
     "execution_count": 66,
     "metadata": {},
     "output_type": "execute_result"
    }
   ],
   "source": [
    "data.sort_values('production_budget',ascending=False).tail(10)"
   ]
  },
  {
   "cell_type": "code",
   "execution_count": 163,
   "id": "fda97e40-7282-4001-9817-068d1d1c7898",
   "metadata": {},
   "outputs": [],
   "source": [
    "#Sorting the dataset according to the production budget ascending criteria\n",
    "data.sort_values('production_budget',ascending=False,inplace=True)"
   ]
  },
  {
   "cell_type": "code",
   "execution_count": 164,
   "id": "9e3e88a2-2ae3-467a-b93c-173276fc3d31",
   "metadata": {},
   "outputs": [
    {
     "data": {
      "text/html": [
       "<div>\n",
       "<style scoped>\n",
       "    .dataframe tbody tr th:only-of-type {\n",
       "        vertical-align: middle;\n",
       "    }\n",
       "\n",
       "    .dataframe tbody tr th {\n",
       "        vertical-align: top;\n",
       "    }\n",
       "\n",
       "    .dataframe thead th {\n",
       "        text-align: right;\n",
       "    }\n",
       "</style>\n",
       "<table border=\"1\" class=\"dataframe\">\n",
       "  <thead>\n",
       "    <tr style=\"text-align: right;\">\n",
       "      <th></th>\n",
       "      <th>release_date</th>\n",
       "      <th>movie</th>\n",
       "      <th>production_budget</th>\n",
       "      <th>domestic_gross</th>\n",
       "      <th>worldwide_gross</th>\n",
       "      <th>distributor</th>\n",
       "      <th>mpaa_rating</th>\n",
       "      <th>genre</th>\n",
       "      <th>year</th>\n",
       "      <th>month</th>\n",
       "      <th>day</th>\n",
       "    </tr>\n",
       "  </thead>\n",
       "  <tbody>\n",
       "    <tr>\n",
       "      <th>0</th>\n",
       "      <td>2007-06-22</td>\n",
       "      <td>Evan Almighty</td>\n",
       "      <td>175000000.0</td>\n",
       "      <td>100289690.0</td>\n",
       "      <td>174131329.0</td>\n",
       "      <td>Universal</td>\n",
       "      <td>PG</td>\n",
       "      <td>Comedy</td>\n",
       "      <td>2007</td>\n",
       "      <td>6</td>\n",
       "      <td>22</td>\n",
       "    </tr>\n",
       "    <tr>\n",
       "      <th>3</th>\n",
       "      <td>2013-12-25</td>\n",
       "      <td>47 Ronin</td>\n",
       "      <td>175000000.0</td>\n",
       "      <td>38362475.0</td>\n",
       "      <td>151716815.0</td>\n",
       "      <td>Universal</td>\n",
       "      <td>PG-13</td>\n",
       "      <td>Action</td>\n",
       "      <td>2013</td>\n",
       "      <td>12</td>\n",
       "      <td>25</td>\n",
       "    </tr>\n",
       "    <tr>\n",
       "      <th>1</th>\n",
       "      <td>1995-07-28</td>\n",
       "      <td>Waterworld</td>\n",
       "      <td>175000000.0</td>\n",
       "      <td>88246220.0</td>\n",
       "      <td>264246220.0</td>\n",
       "      <td>Universal</td>\n",
       "      <td>PG-13</td>\n",
       "      <td>Action</td>\n",
       "      <td>1995</td>\n",
       "      <td>7</td>\n",
       "      <td>28</td>\n",
       "    </tr>\n",
       "    <tr>\n",
       "      <th>2</th>\n",
       "      <td>2017-05-12</td>\n",
       "      <td>King Arthur: Legend of the Sword</td>\n",
       "      <td>175000000.0</td>\n",
       "      <td>39175066.0</td>\n",
       "      <td>139950708.0</td>\n",
       "      <td>Warner Bros.</td>\n",
       "      <td>PG-13</td>\n",
       "      <td>Adventure</td>\n",
       "      <td>2017</td>\n",
       "      <td>5</td>\n",
       "      <td>12</td>\n",
       "    </tr>\n",
       "    <tr>\n",
       "      <th>13</th>\n",
       "      <td>2015-05-22</td>\n",
       "      <td>Tomorrowland</td>\n",
       "      <td>170000000.0</td>\n",
       "      <td>93436322.0</td>\n",
       "      <td>207283457.0</td>\n",
       "      <td>Walt Disney</td>\n",
       "      <td>PG</td>\n",
       "      <td>Adventure</td>\n",
       "      <td>2015</td>\n",
       "      <td>5</td>\n",
       "      <td>22</td>\n",
       "    </tr>\n",
       "    <tr>\n",
       "      <th>...</th>\n",
       "      <td>...</td>\n",
       "      <td>...</td>\n",
       "      <td>...</td>\n",
       "      <td>...</td>\n",
       "      <td>...</td>\n",
       "      <td>...</td>\n",
       "      <td>...</td>\n",
       "      <td>...</td>\n",
       "      <td>...</td>\n",
       "      <td>...</td>\n",
       "      <td>...</td>\n",
       "    </tr>\n",
       "    <tr>\n",
       "      <th>3395</th>\n",
       "      <td>2003-04-11</td>\n",
       "      <td>Better Luck Tomorrow</td>\n",
       "      <td>250000.0</td>\n",
       "      <td>3802390.0</td>\n",
       "      <td>3809226.0</td>\n",
       "      <td>Paramount Pictures</td>\n",
       "      <td>R</td>\n",
       "      <td>Drama</td>\n",
       "      <td>2003</td>\n",
       "      <td>4</td>\n",
       "      <td>11</td>\n",
       "    </tr>\n",
       "    <tr>\n",
       "      <th>3396</th>\n",
       "      <td>2011-10-28</td>\n",
       "      <td>Like Crazy</td>\n",
       "      <td>250000.0</td>\n",
       "      <td>3395391.0</td>\n",
       "      <td>3728400.0</td>\n",
       "      <td>Paramount Pictures</td>\n",
       "      <td>PG-13</td>\n",
       "      <td>Drama</td>\n",
       "      <td>2011</td>\n",
       "      <td>10</td>\n",
       "      <td>28</td>\n",
       "    </tr>\n",
       "    <tr>\n",
       "      <th>3397</th>\n",
       "      <td>2000-07-14</td>\n",
       "      <td>Chuck&amp;Buck</td>\n",
       "      <td>250000.0</td>\n",
       "      <td>1055671.0</td>\n",
       "      <td>1157672.0</td>\n",
       "      <td>Artisan</td>\n",
       "      <td>R</td>\n",
       "      <td>Drama</td>\n",
       "      <td>2000</td>\n",
       "      <td>7</td>\n",
       "      <td>14</td>\n",
       "    </tr>\n",
       "    <tr>\n",
       "      <th>3398</th>\n",
       "      <td>1997-03-28</td>\n",
       "      <td>Love and Other Catastrophes</td>\n",
       "      <td>250000.0</td>\n",
       "      <td>212285.0</td>\n",
       "      <td>743216.0</td>\n",
       "      <td>Fox Searchlight</td>\n",
       "      <td>R</td>\n",
       "      <td>Comedy</td>\n",
       "      <td>1997</td>\n",
       "      <td>3</td>\n",
       "      <td>28</td>\n",
       "    </tr>\n",
       "    <tr>\n",
       "      <th>3400</th>\n",
       "      <td>2005-07-22</td>\n",
       "      <td>November</td>\n",
       "      <td>250000.0</td>\n",
       "      <td>191862.0</td>\n",
       "      <td>191862.0</td>\n",
       "      <td>Sony Pictures Classics</td>\n",
       "      <td>R</td>\n",
       "      <td>Drama</td>\n",
       "      <td>2005</td>\n",
       "      <td>7</td>\n",
       "      <td>22</td>\n",
       "    </tr>\n",
       "  </tbody>\n",
       "</table>\n",
       "<p>3230 rows × 11 columns</p>\n",
       "</div>"
      ],
      "text/plain": [
       "     release_date                             movie  production_budget  \\\n",
       "0      2007-06-22                     Evan Almighty        175000000.0   \n",
       "3      2013-12-25                          47 Ronin        175000000.0   \n",
       "1      1995-07-28                        Waterworld        175000000.0   \n",
       "2      2017-05-12  King Arthur: Legend of the Sword        175000000.0   \n",
       "13     2015-05-22                      Tomorrowland        170000000.0   \n",
       "...           ...                               ...                ...   \n",
       "3395   2003-04-11              Better Luck Tomorrow           250000.0   \n",
       "3396   2011-10-28                        Like Crazy           250000.0   \n",
       "3397   2000-07-14                        Chuck&Buck           250000.0   \n",
       "3398   1997-03-28       Love and Other Catastrophes           250000.0   \n",
       "3400   2005-07-22                          November           250000.0   \n",
       "\n",
       "      domestic_gross  worldwide_gross             distributor mpaa_rating  \\\n",
       "0        100289690.0      174131329.0               Universal          PG   \n",
       "3         38362475.0      151716815.0               Universal       PG-13   \n",
       "1         88246220.0      264246220.0               Universal       PG-13   \n",
       "2         39175066.0      139950708.0            Warner Bros.       PG-13   \n",
       "13        93436322.0      207283457.0             Walt Disney          PG   \n",
       "...              ...              ...                     ...         ...   \n",
       "3395       3802390.0        3809226.0      Paramount Pictures           R   \n",
       "3396       3395391.0        3728400.0      Paramount Pictures       PG-13   \n",
       "3397       1055671.0        1157672.0                 Artisan           R   \n",
       "3398        212285.0         743216.0         Fox Searchlight           R   \n",
       "3400        191862.0         191862.0  Sony Pictures Classics           R   \n",
       "\n",
       "          genre  year  month  day  \n",
       "0        Comedy  2007      6   22  \n",
       "3        Action  2013     12   25  \n",
       "1        Action  1995      7   28  \n",
       "2     Adventure  2017      5   12  \n",
       "13    Adventure  2015      5   22  \n",
       "...         ...   ...    ...  ...  \n",
       "3395      Drama  2003      4   11  \n",
       "3396      Drama  2011     10   28  \n",
       "3397      Drama  2000      7   14  \n",
       "3398     Comedy  1997      3   28  \n",
       "3400      Drama  2005      7   22  \n",
       "\n",
       "[3230 rows x 11 columns]"
      ]
     },
     "execution_count": 164,
     "metadata": {},
     "output_type": "execute_result"
    }
   ],
   "source": [
    "#Get the data according to the production budget ascending criteria \n",
    "data"
   ]
  },
  {
   "cell_type": "code",
   "execution_count": 165,
   "id": "acb880d8-076b-43bd-89e1-a96339030280",
   "metadata": {},
   "outputs": [
    {
     "data": {
      "text/plain": [
       "genre\n",
       "Drama        1180\n",
       "Comedy        775\n",
       "Action        540\n",
       "Adventure     469\n",
       "Horror        266\n",
       "Name: count, dtype: int64"
      ]
     },
     "execution_count": 165,
     "metadata": {},
     "output_type": "execute_result"
    }
   ],
   "source": [
    "#Show how many types of genre and the total number of films in each type\n",
    "data['genre'].value_counts()"
   ]
  },
  {
   "cell_type": "code",
   "execution_count": 166,
   "id": "713636c1-a469-4c3c-aa65-965582f26fcc",
   "metadata": {},
   "outputs": [
    {
     "data": {
      "text/plain": [
       "mpaa_rating\n",
       "R        1492\n",
       "PG-13    1087\n",
       "PG        567\n",
       "G          84\n",
       "Name: count, dtype: int64"
      ]
     },
     "execution_count": 166,
     "metadata": {},
     "output_type": "execute_result"
    }
   ],
   "source": [
    "#Show how many types of mpaa rating and the total number of films in mpaa rating\n",
    "data['mpaa_rating'].value_counts()"
   ]
  },
  {
   "cell_type": "code",
   "execution_count": 167,
   "id": "6f3b4a8f-07a3-4bd6-bb5b-5631a6b3ef27",
   "metadata": {},
   "outputs": [
    {
     "data": {
      "text/plain": [
       "mpaa_rating\n",
       "G        8.253156e+07\n",
       "PG       6.742011e+07\n",
       "PG-13    5.487091e+07\n",
       "R        3.208529e+07\n",
       "Name: domestic_gross, dtype: float64"
      ]
     },
     "execution_count": 167,
     "metadata": {},
     "output_type": "execute_result"
    }
   ],
   "source": [
    "#Get the mean mpaa rating of movie according to the domestic gross\n",
    "data.groupby('mpaa_rating')['domestic_gross'].mean()"
   ]
  },
  {
   "cell_type": "code",
   "execution_count": 168,
   "id": "767ec017-ec5b-4406-ada6-30a86e4aebc4",
   "metadata": {},
   "outputs": [
    {
     "data": {
      "image/png": "[encoded data removed]",
      "text/plain": [
       "<Figure size 640x480 with 1 Axes>"
      ]
     },
     "metadata": {},
     "output_type": "display_data"
    }
   ],
   "source": [
    "#Data visualization with pie chart of  mean mpaa rating of movie according to the domestic gross\n",
    "data.groupby('mpaa_rating')['domestic_gross'].sum().plot(kind='pie')\n",
    "plt.title('Total Domestic Gross by Rating')\n",
    "plt.ylabel('')\n",
    "plt.show()"
   ]
  },
  {
   "cell_type": "code",
   "execution_count": 169,
   "id": "17f8a97a-fff3-48dd-b02d-62a9197a1416",
   "metadata": {},
   "outputs": [
    {
     "data": {
      "text/plain": [
       "mpaa_rating\n",
       "G        58611764.5\n",
       "PG       48006762.0\n",
       "PG-13    34522221.0\n",
       "R        15934642.0\n",
       "Name: domestic_gross, dtype: float64"
      ]
     },
     "execution_count": 169,
     "metadata": {},
     "output_type": "execute_result"
    }
   ],
   "source": [
    "#Get the median mpaa rating of movie according to the domestic gross\n",
    "data.groupby('mpaa_rating')['domestic_gross'].median().sort_values(ascending=False)"
   ]
  },
  {
   "cell_type": "code",
   "execution_count": 170,
   "id": "ab27bc52-a3ce-4458-9b86-0ad9e56cc895",
   "metadata": {},
   "outputs": [
    {
     "data": {
      "image/png": "[encoded data removed]",
      "text/plain": [
       "<Figure size 640x480 with 1 Axes>"
      ]
     },
     "metadata": {},
     "output_type": "display_data"
    }
   ],
   "source": [
    "#Data visualization of theDistribution of worldwide gross\n",
    "plt.hist(data['worldwide_gross'])\n",
    "plt.title('Distribution of worldwide gross')\n",
    "plt.xlabel('worldwide gross')\n",
    "plt.ylabel('Frequency')\n",
    "plt.show()"
   ]
  },
  {
   "cell_type": "code",
   "execution_count": 171,
   "id": "01c65b17-07c7-4128-86c5-fc210e8645b7",
   "metadata": {},
   "outputs": [
    {
     "data": {
      "text/html": [
       "<div>\n",
       "<style scoped>\n",
       "    .dataframe tbody tr th:only-of-type {\n",
       "        vertical-align: middle;\n",
       "    }\n",
       "\n",
       "    .dataframe tbody tr th {\n",
       "        vertical-align: top;\n",
       "    }\n",
       "\n",
       "    .dataframe thead th {\n",
       "        text-align: right;\n",
       "    }\n",
       "</style>\n",
       "<table border=\"1\" class=\"dataframe\">\n",
       "  <thead>\n",
       "    <tr style=\"text-align: right;\">\n",
       "      <th></th>\n",
       "      <th>year</th>\n",
       "      <th>domestic_gross</th>\n",
       "    </tr>\n",
       "  </thead>\n",
       "  <tbody>\n",
       "    <tr>\n",
       "      <th>61</th>\n",
       "      <td>2014</td>\n",
       "      <td>6.356342e+09</td>\n",
       "    </tr>\n",
       "    <tr>\n",
       "      <th>51</th>\n",
       "      <td>2004</td>\n",
       "      <td>6.254857e+09</td>\n",
       "    </tr>\n",
       "    <tr>\n",
       "      <th>50</th>\n",
       "      <td>2003</td>\n",
       "      <td>6.225712e+09</td>\n",
       "    </tr>\n",
       "    <tr>\n",
       "      <th>53</th>\n",
       "      <td>2006</td>\n",
       "      <td>6.158478e+09</td>\n",
       "    </tr>\n",
       "    <tr>\n",
       "      <th>57</th>\n",
       "      <td>2010</td>\n",
       "      <td>6.123401e+09</td>\n",
       "    </tr>\n",
       "    <tr>\n",
       "      <th>60</th>\n",
       "      <td>2013</td>\n",
       "      <td>6.070382e+09</td>\n",
       "    </tr>\n",
       "    <tr>\n",
       "      <th>58</th>\n",
       "      <td>2011</td>\n",
       "      <td>5.990389e+09</td>\n",
       "    </tr>\n",
       "    <tr>\n",
       "      <th>49</th>\n",
       "      <td>2002</td>\n",
       "      <td>5.896311e+09</td>\n",
       "    </tr>\n",
       "    <tr>\n",
       "      <th>48</th>\n",
       "      <td>2001</td>\n",
       "      <td>5.870843e+09</td>\n",
       "    </tr>\n",
       "    <tr>\n",
       "      <th>52</th>\n",
       "      <td>2005</td>\n",
       "      <td>5.869846e+09</td>\n",
       "    </tr>\n",
       "  </tbody>\n",
       "</table>\n",
       "</div>"
      ],
      "text/plain": [
       "    year  domestic_gross\n",
       "61  2014    6.356342e+09\n",
       "51  2004    6.254857e+09\n",
       "50  2003    6.225712e+09\n",
       "53  2006    6.158478e+09\n",
       "57  2010    6.123401e+09\n",
       "60  2013    6.070382e+09\n",
       "58  2011    5.990389e+09\n",
       "49  2002    5.896311e+09\n",
       "48  2001    5.870843e+09\n",
       "52  2005    5.869846e+09"
      ]
     },
     "execution_count": 171,
     "metadata": {},
     "output_type": "execute_result"
    }
   ],
   "source": [
    "# Top 10 years in which domestic gross was highest\n",
    "year_by_domestic_gross=data.groupby('year',as_index=False)['domestic_gross'].sum().sort_values(by='domestic_gross',ascending=False).head(10)\n",
    "year_by_domestic_gross"
   ]
  },
  {
   "cell_type": "code",
   "execution_count": 172,
   "id": "f6d0a191-3b5f-47c8-b6d5-3571461a3c02",
   "metadata": {},
   "outputs": [
    {
     "name": "stderr",
     "output_type": "stream",
     "text": [
      "C:\\Users\\User\\AppData\\Local\\Temp\\ipykernel_7376\\1597837459.py:2: FutureWarning: \n",
      "\n",
      "Passing `palette` without assigning `hue` is deprecated and will be removed in v0.14.0. Assign the `x` variable to `hue` and set `legend=False` for the same effect.\n",
      "\n",
      "  sns.barplot(x='year',y='domestic_gross',data=year_by_domestic_gross,palette='mako')\n"
     ]
    },
    {
     "data": {
      "image/png": "[encoded data removed]",
      "text/plain": [
       "<Figure size 640x480 with 1 Axes>"
      ]
     },
     "metadata": {},
     "output_type": "display_data"
    }
   ],
   "source": [
    "#Data visualization of Top 10 years in which domestic gross was highest\n",
    "sns.barplot(x='year',y='domestic_gross',data=year_by_domestic_gross,palette='mako')\n",
    "plt.title('10 years in which Domestic Gross was highest')\n",
    "plt.xlabel('Year')\n",
    "plt.show()"
   ]
  },
  {
   "cell_type": "code",
   "execution_count": 173,
   "id": "2c75ea12-03ef-463a-a075-0a2cbe4e368f",
   "metadata": {},
   "outputs": [
    {
     "data": {
      "text/plain": [
       "distributor\n",
       "Warner Bros.          4.821614e+10\n",
       "20th Century Fox      4.697384e+10\n",
       "Universal             4.599647e+10\n",
       "Sony Pictures         3.747076e+10\n",
       "Paramount Pictures    3.732193e+10\n",
       "Walt Disney           3.524593e+10\n",
       "Lionsgate             9.206507e+09\n",
       "MGM                   7.591127e+09\n",
       "Dreamworks SKG        7.092696e+09\n",
       "New Line              6.114452e+09\n",
       "Name: worldwide_gross, dtype: float64"
      ]
     },
     "execution_count": 173,
     "metadata": {},
     "output_type": "execute_result"
    }
   ],
   "source": [
    "#Get the top 10 worldwide gross distributor\n",
    "top_worldwide_gross_distributor=data.groupby('distributor')['worldwide_gross'].sum().sort_values(ascending=False).head(10)\n",
    "top_worldwide_gross_distributor"
   ]
  },
  {
   "cell_type": "code",
   "execution_count": 174,
   "id": "9270f239-3f8c-463b-9173-0fad802e1fa9",
   "metadata": {},
   "outputs": [
    {
     "data": {
      "text/plain": [
       "distributor\n",
       "Good Deed Entertain…      35312.0\n",
       "PMK*BNC                   30905.0\n",
       "Revolver Entertainment    26822.0\n",
       "Cafe Pictures             14616.0\n",
       "Big Fat Movies             4655.0\n",
       "Industrial House Films     3330.0\n",
       "Invincible Pictures        2199.0\n",
       "Lionsgate Premiere            0.0\n",
       "Distrib Films                 0.0\n",
       "Morocco Junction Pi…          0.0\n",
       "Palm Pictures                 0.0\n",
       "After Dark                    0.0\n",
       "Off-Hollywood Distr…          0.0\n",
       "Swipe Films                   0.0\n",
       "Hannover House                0.0\n",
       "IFC Midnight                  0.0\n",
       "Codex Pictures                0.0\n",
       "ESX Entertainment             0.0\n",
       "Castle Hill Product…          0.0\n",
       "Outrider Pictures             0.0\n",
       "Name: worldwide_gross, dtype: float64"
      ]
     },
     "execution_count": 174,
     "metadata": {},
     "output_type": "execute_result"
    }
   ],
   "source": [
    "#Get the least 10 worldwide gross distributor\n",
    "least_worldwide_gross_distributor=data.groupby('distributor')['worldwide_gross'].sum().sort_values(ascending=False).tail(20)\n",
    "least_worldwide_gross_distributor"
   ]
  },
  {
   "cell_type": "code",
   "execution_count": 175,
   "id": "352b9007-0f11-4ccc-9e29-c2d92e627cf1",
   "metadata": {},
   "outputs": [
    {
     "data": {
      "text/html": [
       "<div>\n",
       "<style scoped>\n",
       "    .dataframe tbody tr th:only-of-type {\n",
       "        vertical-align: middle;\n",
       "    }\n",
       "\n",
       "    .dataframe tbody tr th {\n",
       "        vertical-align: top;\n",
       "    }\n",
       "\n",
       "    .dataframe thead th {\n",
       "        text-align: right;\n",
       "    }\n",
       "</style>\n",
       "<table border=\"1\" class=\"dataframe\">\n",
       "  <thead>\n",
       "    <tr style=\"text-align: right;\">\n",
       "      <th></th>\n",
       "      <th>genre</th>\n",
       "      <th>production_budget</th>\n",
       "    </tr>\n",
       "  </thead>\n",
       "  <tbody>\n",
       "    <tr>\n",
       "      <th>0</th>\n",
       "      <td>Action</td>\n",
       "      <td>3.159169e+10</td>\n",
       "    </tr>\n",
       "    <tr>\n",
       "      <th>1</th>\n",
       "      <td>Adventure</td>\n",
       "      <td>2.921942e+10</td>\n",
       "    </tr>\n",
       "    <tr>\n",
       "      <th>3</th>\n",
       "      <td>Drama</td>\n",
       "      <td>2.641006e+10</td>\n",
       "    </tr>\n",
       "    <tr>\n",
       "      <th>2</th>\n",
       "      <td>Comedy</td>\n",
       "      <td>1.950706e+10</td>\n",
       "    </tr>\n",
       "    <tr>\n",
       "      <th>4</th>\n",
       "      <td>Horror</td>\n",
       "      <td>5.004500e+09</td>\n",
       "    </tr>\n",
       "  </tbody>\n",
       "</table>\n",
       "</div>"
      ],
      "text/plain": [
       "       genre  production_budget\n",
       "0     Action       3.159169e+10\n",
       "1  Adventure       2.921942e+10\n",
       "3      Drama       2.641006e+10\n",
       "2     Comedy       1.950706e+10\n",
       "4     Horror       5.004500e+09"
      ]
     },
     "execution_count": 175,
     "metadata": {},
     "output_type": "execute_result"
    }
   ],
   "source": [
    "#Get the production budget each genre\n",
    "production_budget_each_genre=data.groupby('genre',as_index=False)['production_budget'].sum().sort_values(by='production_budget',ascending=False)\n",
    "production_budget_each_genre"
   ]
  },
  {
   "cell_type": "code",
   "execution_count": 176,
   "id": "c0accb2e-010a-4790-963e-f713a2c2ee97",
   "metadata": {},
   "outputs": [
    {
     "name": "stderr",
     "output_type": "stream",
     "text": [
      "C:\\Users\\User\\AppData\\Local\\Temp\\ipykernel_7376\\1082644192.py:2: FutureWarning: \n",
      "\n",
      "Passing `palette` without assigning `hue` is deprecated and will be removed in v0.14.0. Assign the `x` variable to `hue` and set `legend=False` for the same effect.\n",
      "\n",
      "  sns.barplot(x='genre',y='production_budget',data=production_budget_each_genre,palette='rainbow')\n"
     ]
    },
    {
     "data": {
      "image/png": "[encoded data removed]",
      "text/plain": [
       "<Figure size 640x480 with 1 Axes>"
      ]
     },
     "metadata": {},
     "output_type": "display_data"
    }
   ],
   "source": [
    "#Data visualization of the production budget each genre \n",
    "sns.barplot(x='genre',y='production_budget',data=production_budget_each_genre,palette='rainbow')\n",
    "plt.title('Total Production budget on each genre')\n",
    "plt.show()"
   ]
  },
  {
   "cell_type": "code",
   "execution_count": 177,
   "id": "76d1ec03-34a4-4fe9-9fea-e71ec0872b64",
   "metadata": {},
   "outputs": [
    {
     "data": {
      "text/plain": [
       "genre\n",
       "Adventure    474544677.0\n",
       "Drama        435110554.0\n",
       "Action       416769345.0\n",
       "Horror       327481748.0\n",
       "Comedy       285761243.0\n",
       "Name: domestic_gross, dtype: float64"
      ]
     },
     "execution_count": 177,
     "metadata": {},
     "output_type": "execute_result"
    }
   ],
   "source": [
    "#Get the highest type of movie which make highest domestic gross\n",
    "data.groupby('genre')['domestic_gross'].max().sort_values(ascending=False)"
   ]
  },
  {
   "cell_type": "code",
   "execution_count": 178,
   "id": "7910e8c6-a955-48d1-a983-e5a6d65d5dc3",
   "metadata": {},
   "outputs": [
    {
     "data": {
      "text/plain": [
       "genre\n",
       "Adventure    4.086866e+10\n",
       "Action       3.496111e+10\n",
       "Drama        3.443144e+10\n",
       "Comedy       3.229462e+10\n",
       "Horror       1.011995e+10\n",
       "Name: domestic_gross, dtype: float64"
      ]
     },
     "execution_count": 178,
     "metadata": {},
     "output_type": "execute_result"
    }
   ],
   "source": [
    "#Get the highest type of movie which make total highest domestic gross  \n",
    "data.groupby('genre')['domestic_gross'].sum().sort_values(ascending=False)"
   ]
  },
  {
   "cell_type": "code",
   "execution_count": 179,
   "id": "fd7357bc-047a-4cb3-a701-0ed38efd8803",
   "metadata": {},
   "outputs": [
    {
     "data": {
      "text/plain": [
       "genre\n",
       "Adventure    8.714000e+07\n",
       "Action       6.474280e+07\n",
       "Comedy       4.167048e+07\n",
       "Horror       3.804494e+07\n",
       "Drama        2.917919e+07\n",
       "Name: domestic_gross, dtype: float64"
      ]
     },
     "execution_count": 179,
     "metadata": {},
     "output_type": "execute_result"
    }
   ],
   "source": [
    "#Get the highest type of movie which make average highest domestic gross\n",
    "data.groupby('genre')['domestic_gross'].mean().sort_values(ascending=False)"
   ]
  },
  {
   "cell_type": "code",
   "execution_count": 181,
   "id": "72405f5b-d7fe-469c-994b-359cc0018034",
   "metadata": {},
   "outputs": [
    {
     "data": {
      "text/plain": [
       "genre\n",
       "Adventure    2.047336e+08\n",
       "Action       1.569672e+08\n",
       "Horror       7.368196e+07\n",
       "Comedy       6.740376e+07\n",
       "Drama        5.531139e+07\n",
       "Name: worldwide_gross, dtype: float64"
      ]
     },
     "execution_count": 181,
     "metadata": {},
     "output_type": "execute_result"
    }
   ],
   "source": [
    "#Get the highest type of movie which make average highest worldwide gross\n",
    "data.groupby('genre')['worldwide_gross'].mean().sort_values(ascending=False)"
   ]
  },
  {
   "cell_type": "code",
   "execution_count": 182,
   "id": "c4ded0df-4114-4b3f-b968-44e39f3f02a8",
   "metadata": {},
   "outputs": [
    {
     "data": {
      "text/plain": [
       "genre\n",
       "Adventure    9.602005e+10\n",
       "Action       8.476231e+10\n",
       "Drama        6.526744e+10\n",
       "Comedy       5.223791e+10\n",
       "Horror       1.959940e+10\n",
       "Name: worldwide_gross, dtype: float64"
      ]
     },
     "execution_count": 182,
     "metadata": {},
     "output_type": "execute_result"
    }
   ],
   "source": [
    "#Get the highest type of movie which make the sum of highest worldwide gross\n",
    "data.groupby('genre')['worldwide_gross'].sum().sort_values(ascending=False)"
   ]
  },
  {
   "cell_type": "code",
   "execution_count": 183,
   "id": "feae38f3-ba20-4d39-adcf-a3b8e1dedb54",
   "metadata": {},
   "outputs": [
    {
     "data": {
      "text/plain": [
       "mpaa_rating\n",
       "G        560000.0\n",
       "PG       300000.0\n",
       "PG-13    250000.0\n",
       "R        250000.0\n",
       "Name: production_budget, dtype: float64"
      ]
     },
     "execution_count": 183,
     "metadata": {},
     "output_type": "execute_result"
    }
   ],
   "source": [
    "#Get the highest type mpaa rating make lowest production_budget\n",
    "data.groupby('mpaa_rating')['production_budget'].min().sort_values(ascending=False)"
   ]
  },
  {
   "cell_type": "code",
   "execution_count": 184,
   "id": "92e94500-4f72-4deb-a4b3-568e3937bf5c",
   "metadata": {},
   "outputs": [
    {
     "data": {
      "text/plain": [
       "mpaa_rating\n",
       "PG       175000000.0\n",
       "PG-13    175000000.0\n",
       "G        170000000.0\n",
       "R        170000000.0\n",
       "Name: production_budget, dtype: float64"
      ]
     },
     "execution_count": 184,
     "metadata": {},
     "output_type": "execute_result"
    }
   ],
   "source": [
    "#Get the highest type mpaa rating make highest production budget\n",
    "data.groupby('mpaa_rating')['production_budget'].max().sort_values(ascending=False)"
   ]
  },
  {
   "cell_type": "code",
   "execution_count": 185,
   "id": "60e9f7a1-b0c3-4a43-ac9e-c6b68790e8b1",
   "metadata": {},
   "outputs": [
    {
     "data": {
      "text/plain": [
       "mpaa_rating\n",
       "PG       4.406582e+07\n",
       "PG-13    4.322383e+07\n",
       "G        4.306437e+07\n",
       "R        2.422634e+07\n",
       "Name: production_budget, dtype: float64"
      ]
     },
     "execution_count": 185,
     "metadata": {},
     "output_type": "execute_result"
    }
   ],
   "source": [
    "#Get the highest type mpaa rating make  the mean highest production budget\n",
    "data.groupby('mpaa_rating')['production_budget'].mean().sort_values(ascending=False)"
   ]
  },
  {
   "cell_type": "code",
   "execution_count": 187,
   "id": "32cd0bf4-997d-49bd-ab5c-ac0628c59995",
   "metadata": {},
   "outputs": [
    {
     "data": {
      "text/plain": [
       "mpaa_rating\n",
       "G        1.968700e+08\n",
       "PG       1.831841e+08\n",
       "PG-13    1.556517e+08\n",
       "R        9.687489e+07\n",
       "Name: worldwide_gross, dtype: float64"
      ]
     },
     "execution_count": 187,
     "metadata": {},
     "output_type": "execute_result"
    }
   ],
   "source": [
    "#Get the highest type mpaa rating make  the standard deviation of the highest worldwide gross\n",
    "data.groupby('mpaa_rating')['worldwide_gross'].std().sort_values(ascending=False)"
   ]
  },
  {
   "cell_type": "code",
   "execution_count": 188,
   "id": "4a32ed8d-8b0a-4c78-891b-d7536562e853",
   "metadata": {},
   "outputs": [
    {
     "data": {
      "text/plain": [
       "mpaa_rating\n",
       "G        3.875780e+16\n",
       "PG       3.355641e+16\n",
       "PG-13    2.422744e+16\n",
       "R        9.384744e+15\n",
       "Name: worldwide_gross, dtype: float64"
      ]
     },
     "execution_count": 188,
     "metadata": {},
     "output_type": "execute_result"
    }
   ],
   "source": [
    "#Get the highest type mpaa rating make  the variance of the highest worldwide gross\n",
    "data.groupby('mpaa_rating')['worldwide_gross'].var().sort_values(ascending=False)"
   ]
  },
  {
   "cell_type": "code",
   "execution_count": 189,
   "id": "f61f18ee-460b-41e3-8771-fab8c5425139",
   "metadata": {},
   "outputs": [
    {
     "data": {
      "text/html": [
       "<div>\n",
       "<style scoped>\n",
       "    .dataframe tbody tr th:only-of-type {\n",
       "        vertical-align: middle;\n",
       "    }\n",
       "\n",
       "    .dataframe tbody tr th {\n",
       "        vertical-align: top;\n",
       "    }\n",
       "\n",
       "    .dataframe thead th {\n",
       "        text-align: right;\n",
       "    }\n",
       "</style>\n",
       "<table border=\"1\" class=\"dataframe\">\n",
       "  <thead>\n",
       "    <tr style=\"text-align: right;\">\n",
       "      <th></th>\n",
       "      <th>year</th>\n",
       "      <th>worldwide_gross</th>\n",
       "    </tr>\n",
       "  </thead>\n",
       "  <tbody>\n",
       "    <tr>\n",
       "      <th>1</th>\n",
       "      <td>1939</td>\n",
       "      <td>3.905252e+08</td>\n",
       "    </tr>\n",
       "    <tr>\n",
       "      <th>24</th>\n",
       "      <td>1977</td>\n",
       "      <td>2.751209e+08</td>\n",
       "    </tr>\n",
       "    <tr>\n",
       "      <th>19</th>\n",
       "      <td>1972</td>\n",
       "      <td>2.685000e+08</td>\n",
       "    </tr>\n",
       "    <tr>\n",
       "      <th>3</th>\n",
       "      <td>1942</td>\n",
       "      <td>2.680000e+08</td>\n",
       "    </tr>\n",
       "    <tr>\n",
       "      <th>20</th>\n",
       "      <td>1973</td>\n",
       "      <td>2.160379e+08</td>\n",
       "    </tr>\n",
       "    <tr>\n",
       "      <th>22</th>\n",
       "      <td>1975</td>\n",
       "      <td>1.999559e+08</td>\n",
       "    </tr>\n",
       "    <tr>\n",
       "      <th>65</th>\n",
       "      <td>2018</td>\n",
       "      <td>1.779628e+08</td>\n",
       "    </tr>\n",
       "    <tr>\n",
       "      <th>25</th>\n",
       "      <td>1978</td>\n",
       "      <td>1.639001e+08</td>\n",
       "    </tr>\n",
       "    <tr>\n",
       "      <th>64</th>\n",
       "      <td>2017</td>\n",
       "      <td>1.521772e+08</td>\n",
       "    </tr>\n",
       "    <tr>\n",
       "      <th>29</th>\n",
       "      <td>1982</td>\n",
       "      <td>1.521316e+08</td>\n",
       "    </tr>\n",
       "  </tbody>\n",
       "</table>\n",
       "</div>"
      ],
      "text/plain": [
       "    year  worldwide_gross\n",
       "1   1939     3.905252e+08\n",
       "24  1977     2.751209e+08\n",
       "19  1972     2.685000e+08\n",
       "3   1942     2.680000e+08\n",
       "20  1973     2.160379e+08\n",
       "22  1975     1.999559e+08\n",
       "65  2018     1.779628e+08\n",
       "25  1978     1.639001e+08\n",
       "64  2017     1.521772e+08\n",
       "29  1982     1.521316e+08"
      ]
     },
     "execution_count": 189,
     "metadata": {},
     "output_type": "execute_result"
    }
   ],
   "source": [
    "#worldwide gross by each year analysis\n",
    "worldwide_gross_by_each_year=data.groupby('year',as_index=False)['worldwide_gross'].mean().sort_values(by='worldwide_gross',ascending=False).head(10)\n",
    "worldwide_gross_by_each_year"
   ]
  },
  {
   "cell_type": "code",
   "execution_count": 190,
   "id": "a461bc32-9b5e-4553-9664-54dafc9caa1a",
   "metadata": {},
   "outputs": [
    {
     "name": "stderr",
     "output_type": "stream",
     "text": [
      "C:\\Users\\User\\AppData\\Local\\Temp\\ipykernel_7376\\1777128505.py:2: FutureWarning: \n",
      "\n",
      "Passing `palette` without assigning `hue` is deprecated and will be removed in v0.14.0. Assign the `x` variable to `hue` and set `legend=False` for the same effect.\n",
      "\n",
      "  sns.barplot(x='year',y='worldwide_gross',data=worldwide_gross_by_each_year,palette='summer')\n"
     ]
    },
    {
     "data": {
      "image/png": "[encoded data removed]",
      "text/plain": [
       "<Figure size 640x480 with 1 Axes>"
      ]
     },
     "metadata": {},
     "output_type": "display_data"
    }
   ],
   "source": [
    "#Data visualization of  10 years in which worldwide gross was highest \n",
    "sns.barplot(x='year',y='worldwide_gross',data=worldwide_gross_by_each_year,palette='summer')\n",
    "plt.title('10 years in which worldwide gross was highest')\n",
    "plt.show()"
   ]
  },
  {
   "cell_type": "code",
   "execution_count": 193,
   "id": "fc7a7681-2f89-45ce-838c-1a5db5507442",
   "metadata": {},
   "outputs": [
    {
     "data": {
      "text/html": [
       "<div>\n",
       "<style scoped>\n",
       "    .dataframe tbody tr th:only-of-type {\n",
       "        vertical-align: middle;\n",
       "    }\n",
       "\n",
       "    .dataframe tbody tr th {\n",
       "        vertical-align: top;\n",
       "    }\n",
       "\n",
       "    .dataframe thead th {\n",
       "        text-align: right;\n",
       "    }\n",
       "</style>\n",
       "<table border=\"1\" class=\"dataframe\">\n",
       "  <thead>\n",
       "    <tr style=\"text-align: right;\">\n",
       "      <th></th>\n",
       "      <th>year</th>\n",
       "      <th>worldwide_gross</th>\n",
       "    </tr>\n",
       "  </thead>\n",
       "  <tbody>\n",
       "    <tr>\n",
       "      <th>11</th>\n",
       "      <td>1962</td>\n",
       "      <td>60047692.5</td>\n",
       "    </tr>\n",
       "    <tr>\n",
       "      <th>10</th>\n",
       "      <td>1960</td>\n",
       "      <td>60000000.0</td>\n",
       "    </tr>\n",
       "    <tr>\n",
       "      <th>7</th>\n",
       "      <td>1956</td>\n",
       "      <td>42000000.0</td>\n",
       "    </tr>\n",
       "    <tr>\n",
       "      <th>16</th>\n",
       "      <td>1968</td>\n",
       "      <td>35288246.0</td>\n",
       "    </tr>\n",
       "    <tr>\n",
       "      <th>8</th>\n",
       "      <td>1957</td>\n",
       "      <td>33300000.0</td>\n",
       "    </tr>\n",
       "    <tr>\n",
       "      <th>6</th>\n",
       "      <td>1954</td>\n",
       "      <td>28200000.0</td>\n",
       "    </tr>\n",
       "    <tr>\n",
       "      <th>4</th>\n",
       "      <td>1943</td>\n",
       "      <td>10462500.0</td>\n",
       "    </tr>\n",
       "    <tr>\n",
       "      <th>0</th>\n",
       "      <td>1936</td>\n",
       "      <td>165049.0</td>\n",
       "    </tr>\n",
       "    <tr>\n",
       "      <th>18</th>\n",
       "      <td>1971</td>\n",
       "      <td>0.0</td>\n",
       "    </tr>\n",
       "    <tr>\n",
       "      <th>66</th>\n",
       "      <td>2019</td>\n",
       "      <td>0.0</td>\n",
       "    </tr>\n",
       "  </tbody>\n",
       "</table>\n",
       "</div>"
      ],
      "text/plain": [
       "    year  worldwide_gross\n",
       "11  1962       60047692.5\n",
       "10  1960       60000000.0\n",
       "7   1956       42000000.0\n",
       "16  1968       35288246.0\n",
       "8   1957       33300000.0\n",
       "6   1954       28200000.0\n",
       "4   1943       10462500.0\n",
       "0   1936         165049.0\n",
       "18  1971              0.0\n",
       "66  2019              0.0"
      ]
     },
     "execution_count": 193,
     "metadata": {},
     "output_type": "execute_result"
    }
   ],
   "source": [
    "# worldwide gross by each year least analysis\n",
    "worldwide_gross_by_each_year_least=data.groupby('year',as_index=False)['worldwide_gross'].mean().sort_values(by='worldwide_gross',ascending=False).tail(10)\n",
    "worldwide_gross_by_each_year_least"
   ]
  },
  {
   "cell_type": "code",
   "execution_count": 194,
   "id": "b740ea3a-60d8-4a34-ac57-a9a1f2e2241d",
   "metadata": {},
   "outputs": [
    {
     "name": "stderr",
     "output_type": "stream",
     "text": [
      "C:\\Users\\User\\AppData\\Local\\Temp\\ipykernel_7376\\1326868368.py:2: FutureWarning: \n",
      "\n",
      "Passing `palette` without assigning `hue` is deprecated and will be removed in v0.14.0. Assign the `x` variable to `hue` and set `legend=False` for the same effect.\n",
      "\n",
      "  sns.barplot(x='year',y='worldwide_gross',data=worldwide_gross_by_each_year_least,palette='tab20b')\n"
     ]
    },
    {
     "data": {
      "image/png": "[encoded data removed]",
      "text/plain": [
       "<Figure size 640x480 with 1 Axes>"
      ]
     },
     "metadata": {},
     "output_type": "display_data"
    }
   ],
   "source": [
    "#Data visualization 10 years in which worldwide gross was least\n",
    "sns.barplot(x='year',y='worldwide_gross',data=worldwide_gross_by_each_year_least,palette='tab20b')\n",
    "plt.title('10 years in which worldwide gross was least')\n",
    "plt.show()"
   ]
  },
  {
   "cell_type": "code",
   "execution_count": 195,
   "id": "7724bac0-c5b0-40e1-8acf-e8207f7d9ed7",
   "metadata": {},
   "outputs": [
    {
     "data": {
      "image/png": "[encoded data removed]",
      "text/plain": [
       "<Figure size 640x480 with 1 Axes>"
      ]
     },
     "metadata": {},
     "output_type": "display_data"
    }
   ],
   "source": [
    "#Data visualization Mean worldwide gross over years\n",
    "data.groupby('year')['worldwide_gross'].mean().plot(kind='line',color='skyblue')\n",
    "plt.title('Mean worldwide gross over years')\n",
    "plt.xlabel('Release Year')\n",
    "plt.ylabel('Mean worldwide gross')\n",
    "plt.show()"
   ]
  },
  {
   "cell_type": "code",
   "execution_count": 196,
   "id": "706a6049-3f5a-4c10-af93-b26c0c720187",
   "metadata": {},
   "outputs": [
    {
     "data": {
      "text/plain": [
       "year\n",
       "1939    3.905252e+08\n",
       "1977    2.751209e+08\n",
       "1972    2.685000e+08\n",
       "1942    2.680000e+08\n",
       "1973    2.160379e+08\n",
       "            ...     \n",
       "1954    2.820000e+07\n",
       "1943    1.046250e+07\n",
       "1936    1.650490e+05\n",
       "1971    0.000000e+00\n",
       "2019    0.000000e+00\n",
       "Name: worldwide_gross, Length: 67, dtype: float64"
      ]
     },
     "execution_count": 196,
     "metadata": {},
     "output_type": "execute_result"
    }
   ],
   "source": [
    "#Sorting year data according to worldwide gross\n",
    "data.groupby('year')['worldwide_gross'].mean().sort_values(ascending=False)"
   ]
  },
  {
   "cell_type": "code",
   "execution_count": 197,
   "id": "0fd2bd57-6f31-444a-9db8-90ab18b5c82f",
   "metadata": {},
   "outputs": [
    {
     "data": {
      "image/png": "[encoded data removed]",
      "text/plain": [
       "<Figure size 640x480 with 1 Axes>"
      ]
     },
     "metadata": {},
     "output_type": "display_data"
    }
   ],
   "source": [
    "#Scatter plot of production_budget vs worldwide_gross\n",
    "data.plot(kind='scatter',x='production_budget',y='worldwide_gross')\n",
    "plt.title('Scatter plot of production_budget vs worldwide_gross')\n",
    "plt.xlabel('Production Budget')\n",
    "plt.ylabel('Worldwide Gross')\n",
    "plt.show()"
   ]
  },
  {
   "cell_type": "code",
   "execution_count": 198,
   "id": "60d1af31-ae27-4e9d-9068-f1aac034d8cf",
   "metadata": {},
   "outputs": [
    {
     "data": {
      "image/png": "[encoded data removed]",
      "text/plain": [
       "<Figure size 640x480 with 1 Axes>"
      ]
     },
     "metadata": {},
     "output_type": "display_data"
    }
   ],
   "source": [
    "#Average Domestic Gross by Distributor\n",
    "data.groupby('distributor')['domestic_gross'].mean().head().plot(kind='barh',color='green')\n",
    "plt.title('Average Domestic Gross by Distributor')\n",
    "plt.xlabel('Average Domestic Gross')\n",
    "plt.ylabel('Distributor')\n",
    "plt.show()"
   ]
  },
  {
   "cell_type": "code",
   "execution_count": 200,
   "id": "1a35d6d5-60e2-452c-8451-24b7ba6dc570",
   "metadata": {},
   "outputs": [
    {
     "data": {
      "text/plain": [
       "genre\n",
       "Adventure    9.602005e+10\n",
       "Action       8.476231e+10\n",
       "Drama        6.526744e+10\n",
       "Comedy       5.223791e+10\n",
       "Horror       1.959940e+10\n",
       "Name: worldwide_gross, dtype: float64"
      ]
     },
     "execution_count": 200,
     "metadata": {},
     "output_type": "execute_result"
    }
   ],
   "source": [
    "#Type of genre whish creat highest worldwide gross \n",
    "data.groupby('genre')['worldwide_gross'].sum().sort_values(ascending=False)"
   ]
  },
  {
   "cell_type": "code",
   "execution_count": 201,
   "id": "71eba752-48d2-4877-98fc-d3c6822ac3f7",
   "metadata": {},
   "outputs": [
    {
     "data": {
      "image/png": "[encoded data removed]",
      "text/plain": [
       "<Figure size 640x480 with 1 Axes>"
      ]
     },
     "metadata": {},
     "output_type": "display_data"
    }
   ],
   "source": [
    "#Total worldwide gross in each genre\n",
    "plt.bar(data['genre'],data['worldwide_gross'],color='skyblue')\n",
    "plt.title('Total worldwide gross in each genre')\n",
    "plt.xlabel('Genre')\n",
    "plt.ylabel('Total worldwide gross')\n",
    "plt.show()"
   ]
  },
  {
   "cell_type": "code",
   "execution_count": null,
   "id": "84992427-fad0-474c-b1af-353e20751612",
   "metadata": {},
   "outputs": [],
   "source": []
  }
 ],
 "metadata": {
  "kernelspec": {
   "display_name": "Python 3 (ipykernel)",
   "language": "python",
   "name": "python3"
  },
  "language_info": {
   "codemirror_mode": {
    "name": "ipython",
    "version": 3
   },
   "file_extension": ".py",
   "mimetype": "text/x-python",
   "name": "python",
   "nbconvert_exporter": "python",
   "pygments_lexer": "ipython3",
   "version": "3.11.5"
  }
 },
 "nbformat": 4,
 "nbformat_minor": 5
}
